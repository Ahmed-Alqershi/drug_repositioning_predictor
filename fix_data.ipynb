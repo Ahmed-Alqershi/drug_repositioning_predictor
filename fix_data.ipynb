{
 "cells": [
  {
   "cell_type": "code",
   "execution_count": 1,
   "id": "e9d8e051",
   "metadata": {},
   "outputs": [],
   "source": [
    "import pickle\n",
    "import pandas as pd\n",
    "import json\n",
    "import numpy as np"
   ]
  },
  {
   "cell_type": "code",
   "execution_count": 2,
   "id": "b08516ca",
   "metadata": {},
   "outputs": [],
   "source": [
    "embedding_model_path = \"fasttext_model.pkl\"\n",
    "\n",
    "with open(embedding_model_path, 'rb') as f:\n",
    "    ft_model = pickle.load(f)"
   ]
  },
  {
   "cell_type": "code",
   "execution_count": 3,
   "id": "15081fd8",
   "metadata": {},
   "outputs": [],
   "source": [
    "objs = pd.read_csv(\"unique_objects.csv\")\n",
    "sbjs = pd.read_csv(\"unique_subjects.csv\")"
   ]
  },
  {
   "cell_type": "code",
   "execution_count": 4,
   "id": "eae1c40f",
   "metadata": {},
   "outputs": [],
   "source": [
    "obj_dict = {i: ft_model.wv.get_vector(i.lower()).tolist() for i in list(objs.Object_CUI)}\n",
    "sbj_dict = {i: ft_model.wv.get_vector(i.lower()).tolist() for i in list(sbjs.Subject_CUI)}\n",
    "\n",
    "# len([ft_model.wv.get_vector(i) for i in list(objs.Object_CUI)])"
   ]
  },
  {
   "cell_type": "code",
   "execution_count": 5,
   "id": "a09ebe67",
   "metadata": {},
   "outputs": [],
   "source": [
    "with open(\"objects.json\", \"w\") as f:\n",
    "    json.dump(obj_dict, f)\n",
    "\n",
    "with open(\"subjects.json\", \"w\") as f:\n",
    "    json.dump(sbj_dict, f)"
   ]
  },
  {
   "cell_type": "code",
   "execution_count": 13,
   "id": "8c4e72ef",
   "metadata": {},
   "outputs": [
    {
     "data": {
      "text/plain": [
       "[]"
      ]
     },
     "execution_count": 13,
     "metadata": {},
     "output_type": "execute_result"
    }
   ],
   "source": [
    "vocab = list(ft_model.wv.key_to_index.keys())\n",
    "\n",
    "[i for i in list(objs.Object_CUI) if i.lower() not in vocab]\n",
    "[i for i in list(sbjs.Subject_CUI) if i.lower() not in vocab]\n",
    "# [ft_model.wv.get_vector(i) for i in list(objs.Object_CUI)]"
   ]
  },
  {
   "cell_type": "code",
   "execution_count": 34,
   "id": "baf7bc8b",
   "metadata": {},
   "outputs": [
    {
     "data": {
      "text/plain": [
       "array([ True,  True,  True,  True,  True,  True,  True,  True,  True,\n",
       "        True,  True,  True,  True,  True,  True,  True,  True,  True,\n",
       "        True,  True,  True,  True,  True,  True,  True,  True,  True,\n",
       "        True,  True,  True,  True,  True,  True,  True,  True,  True,\n",
       "        True,  True,  True,  True,  True,  True,  True,  True,  True,\n",
       "        True,  True,  True,  True,  True,  True,  True,  True,  True,\n",
       "        True,  True,  True,  True,  True,  True,  True,  True,  True,\n",
       "        True])"
      ]
     },
     "execution_count": 34,
     "metadata": {},
     "output_type": "execute_result"
    }
   ],
   "source": [
    "ft_model.wv.get_vector(\"C0004057\".lower()) == np.array(embedding_dict.get(\"C0004057\"))"
   ]
  },
  {
   "cell_type": "code",
   "execution_count": 28,
   "id": "a11f6cfb",
   "metadata": {},
   "outputs": [
    {
     "data": {
      "text/plain": [
       "[-0.02040497027337551,\n",
       " 0.19316953420639038,\n",
       " 0.11004387587308884,\n",
       " -0.33243605494499207,\n",
       " 0.2444753348827362,\n",
       " 1.339719295501709,\n",
       " 1.468353509902954,\n",
       " 0.36825892329216003,\n",
       " 0.20290328562259674,\n",
       " -0.36236342787742615,\n",
       " -0.012119934894144535,\n",
       " 0.7279598712921143,\n",
       " 0.30631664395332336,\n",
       " -0.26784467697143555,\n",
       " -0.08378924429416656,\n",
       " 0.19232283532619476,\n",
       " -0.8587172031402588,\n",
       " -0.42565301060676575,\n",
       " -0.1555301696062088,\n",
       " 0.08491355925798416,\n",
       " -0.14125290513038635,\n",
       " -0.0024839865509420633,\n",
       " 0.5499072074890137,\n",
       " -0.4275708496570587,\n",
       " -1.0235077142715454,\n",
       " 0.6981011629104614,\n",
       " -0.4270517826080322,\n",
       " 0.5696934461593628,\n",
       " 0.6265060901641846,\n",
       " 0.263870507478714,\n",
       " 0.34784582257270813,\n",
       " -0.5311036705970764,\n",
       " 0.3249158263206482,\n",
       " -0.826535701751709,\n",
       " 0.08536995947360992,\n",
       " -0.7862351536750793,\n",
       " 0.2269783616065979,\n",
       " -0.3292599320411682,\n",
       " 0.21298380196094513,\n",
       " -1.0683848857879639,\n",
       " 0.305448979139328,\n",
       " 0.03310211002826691,\n",
       " -0.10436628758907318,\n",
       " 0.722191333770752,\n",
       " 0.5587950348854065,\n",
       " 0.44496238231658936,\n",
       " -0.6004781126976013,\n",
       " -0.12368845194578171,\n",
       " -0.10211867094039917,\n",
       " 0.2020445019006729,\n",
       " 1.0305578708648682,\n",
       " -0.04870449751615524,\n",
       " 0.6921730637550354,\n",
       " 0.261359840631485,\n",
       " 0.05220933258533478,\n",
       " 0.47420814633369446,\n",
       " -0.03168737515807152,\n",
       " -0.03836740553379059,\n",
       " 0.018231363967061043,\n",
       " 0.43682020902633667,\n",
       " 0.523544192314148,\n",
       " 0.3153822422027588,\n",
       " 0.15728427469730377,\n",
       " 0.3214755952358246]"
      ]
     },
     "execution_count": 28,
     "metadata": {},
     "output_type": "execute_result"
    }
   ],
   "source": [
    "import json\n",
    "\n",
    "with open(\"subjects.json\") as f:\n",
    "    embedding_dict = json.load(f)\n",
    "\n",
    "embedding_dict.get(\"C0004057\")"
   ]
  },
  {
   "cell_type": "code",
   "execution_count": null,
   "id": "75d31dbf",
   "metadata": {},
   "outputs": [],
   "source": []
  }
 ],
 "metadata": {
  "kernelspec": {
   "display_name": "thesis",
   "language": "python",
   "name": "python3"
  },
  "language_info": {
   "codemirror_mode": {
    "name": "ipython",
    "version": 3
   },
   "file_extension": ".py",
   "mimetype": "text/x-python",
   "name": "python",
   "nbconvert_exporter": "python",
   "pygments_lexer": "ipython3",
   "version": "3.11.11"
  }
 },
 "nbformat": 4,
 "nbformat_minor": 5
}
